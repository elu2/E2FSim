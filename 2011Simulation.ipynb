{
 "cells": [
  {
   "cell_type": "code",
   "execution_count": 1,
   "id": "af3e0179-890e-4186-8081-4d05c642d298",
   "metadata": {},
   "outputs": [],
   "source": [
    "from scipy.integrate import odeint\n",
    "import matplotlib.pyplot as plt\n",
    "import numpy as np\n",
    "import pandas as pd\n",
    "import random"
   ]
  },
  {
   "cell_type": "code",
   "execution_count": 22,
   "id": "3eeb6fd0-c345-4f59-9570-3bde9670f470",
   "metadata": {},
   "outputs": [],
   "source": [
    "# Plot the relevent outputs used downstream.\n",
    "# input_obj: for type 1, input odeint output. for type 2, just look at the code to figure out input... \n",
    "# plot_type: 1 for concentration plots, 2 for EE steady state plots\n",
    "\n",
    "def plotter(input_obj, plot_type):\n",
    "    if plot_type == 1:\n",
    "        EE = input_obj[:, 0]\n",
    "        MD = input_obj[:, 1]\n",
    "        RP = input_obj[:, 2]\n",
    "\n",
    "        plt.plot()\n",
    "        plt.title('Concentrations Plot')\n",
    "        plt.xlabel('Time (hrs)')\n",
    "        plt.ylabel('Concentration (nM/mL)')\n",
    "        plt.plot(t, EE, label=\"EE\")\n",
    "        plt.plot(t, MD, label=\"MD\")\n",
    "        plt.plot(t, RP, label=\"RP\")\n",
    "        plt.legend()\n",
    "        plt.show()\n",
    "\n",
    "    if plot_type == 2:\n",
    "        plt.plot(input_obj[0][0], input_obj[0][1], label=\"EE On\")\n",
    "        plt.plot(input_obj[1][0], input_obj[1][1], label=\"EE Off\")\n",
    "        plt.legend(loc=\"best\")\n",
    "        plt.ylabel(\"EE_SS\")\n",
    "        plt.xlabel(\"log10 [S]\")\n",
    "        plt.show()"
   ]
  },
  {
   "cell_type": "code",
   "execution_count": 3,
   "id": "3df39322-c692-4ea8-82c7-b0a4b1e8bc24",
   "metadata": {},
   "outputs": [],
   "source": [
    "# Dealing with more complex, time-dependent serum concentration behavior\n",
    "\n",
    "def serum(time):\n",
    "    R = 7\n",
    "    hi = 20\n",
    "    low = .3\n",
    "    if time < R:\n",
    "        return hi\n",
    "    else: return low"
   ]
  },
  {
   "cell_type": "code",
   "execution_count": 4,
   "id": "08a38c7a-f177-4680-9eed-0713a450e568",
   "metadata": {},
   "outputs": [],
   "source": [
    "# Positive Michaelis-Menten equation\n",
    "# state: 0 or 1 depending on if a model component will be on or off\n",
    "# a_or_m: return additive or multiplicative identity when model component is off\n",
    "\n",
    "def mm_pos(A_n, K_n, n_n, a_or_m, state):\n",
    "    if state == 0:\n",
    "        if a_or_m == \"a\":\n",
    "            return 0\n",
    "        if a_or_m == \"m\":\n",
    "            return 1\n",
    "        \n",
    "    else:\n",
    "        if A_n < 0:\n",
    "            A_n = 0\n",
    "        # Unsure about applying maximum\n",
    "        if A_n >= 11:\n",
    "            A_n = 11\n",
    "            \n",
    "        val = A_n**n_n/(K_n**n_n + A_n**n_n)\n",
    "        return val"
   ]
  },
  {
   "cell_type": "code",
   "execution_count": 5,
   "id": "c85c7698-b318-4b16-adb1-85cd9c6d7891",
   "metadata": {},
   "outputs": [],
   "source": [
    "# Negative Michaelis-Menten equation\n",
    "# state: 0 or 1 depending on if a model component will be on or off\n",
    "# a_or_m: return additive or multiplicative identity when model component is off\n",
    "\n",
    "def mm_neg(A_n, K_n, n_n, a_or_m, state):\n",
    "    if state == 0:\n",
    "        if a_or_m == \"a\":\n",
    "            return 0\n",
    "        if a_or_m == \"m\":\n",
    "            return 1\n",
    "        \n",
    "    else:\n",
    "        if A_n < 0:\n",
    "            A_n = 0\n",
    "        # Unsure about applying maximum\n",
    "        if A_n >= 11:\n",
    "            A_n = 11\n",
    "\n",
    "        val = K_n**n_n/(K_n**n_n + A_n**n_n)\n",
    "        return val"
   ]
  },
  {
   "cell_type": "code",
   "execution_count": 6,
   "id": "96434d58-cca0-42aa-b7d0-7370a143513a",
   "metadata": {},
   "outputs": [],
   "source": [
    "# For the special 9th model component link\n",
    "# state7: link 7 on or off\n",
    "# state9: link 9 on or off\n",
    "\n",
    "def link_9(state7, state9, MD, EE, n_7, n_9, K_7, K_9, beta_EE=None):\n",
    "    if state9 == 0:\n",
    "        link7 = mm_pos(MD, K_7, n_7, \"m\", state7)\n",
    "        return link7\n",
    "    \n",
    "    if state9 == 1:\n",
    "        link9a = mm_pos(MD, K_7, n_7, \"m\", state7) * mm_pos(EE, K_9, n_9, \"m\", 1)\n",
    "        return link9a\n",
    "    \n",
    "    if state9 == 2:\n",
    "        link9b = mm_pos(MD, K_7, n_7, \"\", state7) + beta_EE*mm_pos(EE, K_9, n_9, \"a\", 1)\n",
    "        return link9b"
   ]
  },
  {
   "cell_type": "code",
   "execution_count": 15,
   "id": "f09ac8b4-6c92-41b0-a95b-e7cb0e44833e",
   "metadata": {},
   "outputs": [],
   "source": [
    "# Performs analysis on switch/bistability behavior.\n",
    "# Need to implement resettability condition in the future.\n",
    "# EE_SS_on, EE_SS_off: proliferative and quiescent odeint outputs, respectively.\n",
    "\n",
    "def cond_analysis(EE_SS_on, EE_SS_off):\n",
    "    # Calculate difference between max and min of SS for EE-off initial condition\n",
    "    EE_min_max = max(EE_SS_off) - min(EE_SS_off)\n",
    "\n",
    "    # Switch conditions\n",
    "    switch = False\n",
    "    if EE_min_max > lmda:\n",
    "        switch = True\n",
    "\n",
    "    # Keep record of delta EE_SS\n",
    "    delta_EE_SS = []\n",
    "    for SS_off, SS_on in zip(EE_SS_off, EE_SS_on):\n",
    "        delta_EE_SS.append(SS_off - SS_on)\n",
    "        \n",
    "    # Bistability conditions\n",
    "    bistable_bool = 0\n",
    "    if sum([i > EE_min_max * .1 for i in delta_EE_SS]) >= 2 and switch:\n",
    "        bistable_bool = 1\n",
    "    elif sum([i > EE_min_max * .2 for i in delta_EE_SS]) >= 1 and switch:\n",
    "        bistable_bool = 1\n",
    "    \n",
    "    return bistable_bool"
   ]
  },
  {
   "cell_type": "code",
   "execution_count": 42,
   "id": "2294e00d-985e-432d-92a8-93ae53e43387",
   "metadata": {},
   "outputs": [],
   "source": [
    "# Input function for odeint\n",
    "# Includes logic for upper bound being 11\n",
    "# Logic for lower bound being 0 should/needs to be implemented\n",
    "\n",
    "def systems(X, t, S, states):\n",
    "    EE = X[0]\n",
    "    MD = X[1]\n",
    "    RP = X[2]\n",
    "\n",
    "\n",
    "    dEEdt = (1/tau_EE) * (link_9(states[5], states[7], MD, EE, n_7, n_9, K_7, K_9, beta_EE) * mm_neg(RP, K_6, n_6, \"m\", states[4]) * mm_neg(MD, K_8, n_8, \"m\", states[6]) * mm_neg(EE, K_10, n_10, \"m\", states[8]) - EE)\n",
    "    dMDdt = (1/tau_MD) * (mm_pos(S, K_1, n_1, \"m\", 1) + beta_MD*mm_pos(EE, K_2, n_2, \"a\", states[0]) - MD)\n",
    "    dRPdt = (1/tau_RP) * ((1 + beta_RP*mm_pos(EE, K_4, n_4, \"a\", states[2])) * mm_neg(MD, K_3, n_3, \"m\", states[1]) * mm_neg(EE, K_5, n_5, \"m\", states[3]) - RP)\n",
    "    \n",
    "    return [dEEdt, dMDdt, dRPdt]"
   ]
  },
  {
   "cell_type": "markdown",
   "id": "ae87c708-f013-4e52-ac11-a41786ad4b4c",
   "metadata": {},
   "source": [
    "## Loading parameters, states, initial conditions, time steps, and serum concentration"
   ]
  },
  {
   "cell_type": "code",
   "execution_count": 50,
   "id": "350323b1-2702-4450-98de-967536e4ee82",
   "metadata": {},
   "outputs": [],
   "source": [
    "# Load parameters\n",
    "params = pd.read_csv(\"parameters.csv\")\n",
    "\n",
    "# Initial conditions\n",
    "X0_on = [11, 11, 0.01] # EE-on initial condition\n",
    "X0_off = [.01, .01, 11] # EE-off initial condition\n",
    "\n",
    "# Time steps\n",
    "t = np.linspace(.2, 200, 100)\n",
    "\n",
    "# .01 to 20 serum concentration\n",
    "serum_con = np.logspace(-2, 1.3, 25)\n",
    "\n",
    "# On/off components of model\n",
    "# link 9: 0 for off, 1 for 9a, 2 for 9b\n",
    "# Most robust: states = [1, 1, 0, 1, 1, 1, 0, 2, 0]\n",
    "# Links:  2  3  4  5  6  7  8  9  10\n",
    "states = [1, 1, 0, 1, 1, 1, 0, 2, 0]\n",
    "\n",
    "# For switch and bistability\n",
    "lmda = .1"
   ]
  },
  {
   "cell_type": "markdown",
   "id": "5da4ef74-bdbe-48e7-9ebe-1dd7faf2a43e",
   "metadata": {},
   "source": [
    "## Generating Time x Concentration graphs for 1 $[S]$ value"
   ]
  },
  {
   "cell_type": "code",
   "execution_count": null,
   "id": "11c623f4-778b-4540-833a-06a53fd1b427",
   "metadata": {},
   "outputs": [],
   "source": [
    "# Initialize dictionary to store final steady-state concentrations\n",
    "steady_states = {\n",
    "    \"EE\": [],\n",
    "    \"MD\": [],\n",
    "    \"RP\": []\n",
    "}\n",
    "\n",
    "S = 10\n",
    "\n",
    "# Loop through parameters and record steady-state concentrations\n",
    "for i in range(params.shape[0]-19900):\n",
    "    # Update parameters from row of df\n",
    "    globals().update(params.iloc[i].to_dict())\n",
    "\n",
    "    # Calculate ODEs\n",
    "    sol = odeint(systems, X0_on, t, args=(S, states))\n",
    "    \n",
    "    # Record steady-state concentrations\n",
    "    steady_states[\"EE\"].append(sol[-1, 0])\n",
    "    steady_states[\"MD\"].append(sol[-1, 1])\n",
    "    steady_states[\"RP\"].append(sol[-1, 2])\n",
    "    \n",
    "    plotter(sol,1)"
   ]
  },
  {
   "cell_type": "markdown",
   "id": "99a9f921-eea2-490b-b336-6d1c04263808",
   "metadata": {},
   "source": [
    "## Generating $[S]$ x $EE_{SS}$ graphs and analyzing for bistability"
   ]
  },
  {
   "cell_type": "code",
   "execution_count": 51,
   "id": "f92b74a7-d6d6-47e7-b25e-075c3f917751",
   "metadata": {},
   "outputs": [
    {
     "name": "stdout",
     "output_type": "stream",
     "text": [
      "0/1 bistable.\r"
     ]
    },
    {
     "data": {
      "image/png": "[encoded data removed]",
      "text/plain": [
       "<Figure size 432x288 with 1 Axes>"
      ]
     },
     "metadata": {
      "needs_background": "light"
     },
     "output_type": "display_data"
    },
    {
     "name": "stdout",
     "output_type": "stream",
     "text": [
      "0/2 bistable.\r"
     ]
    },
    {
     "data": {
      "image/png": "[encoded data removed]",
      "text/plain": [
       "<Figure size 432x288 with 1 Axes>"
      ]
     },
     "metadata": {
      "needs_background": "light"
     },
     "output_type": "display_data"
    },
    {
     "name": "stdout",
     "output_type": "stream",
     "text": [
      "0/3 bistable.\r"
     ]
    },
    {
     "data": {
      "image/png": "[encoded data removed]",
      "text/plain": [
       "<Figure size 432x288 with 1 Axes>"
      ]
     },
     "metadata": {
      "needs_background": "light"
     },
     "output_type": "display_data"
    },
    {
     "name": "stdout",
     "output_type": "stream",
     "text": [
      "0/4 bistable.\r"
     ]
    },
    {
     "data": {
      "image/png": "[encoded data removed]",
      "text/plain": [
       "<Figure size 432x288 with 1 Axes>"
      ]
     },
     "metadata": {
      "needs_background": "light"
     },
     "output_type": "display_data"
    },
    {
     "ename": "KeyboardInterrupt",
     "evalue": "",
     "output_type": "error",
     "traceback": [
      "\u001b[1;31m---------------------------------------------------------------------------\u001b[0m",
      "\u001b[1;31mKeyboardInterrupt\u001b[0m                         Traceback (most recent call last)",
      "\u001b[1;32m<ipython-input-51-335b610c52e0>\u001b[0m in \u001b[0;36m<module>\u001b[1;34m\u001b[0m\n\u001b[0;32m     21\u001b[0m         \u001b[1;31m# Calculate ODEs\u001b[0m\u001b[1;33m\u001b[0m\u001b[1;33m\u001b[0m\u001b[1;33m\u001b[0m\u001b[0m\n\u001b[0;32m     22\u001b[0m         \u001b[0mpsol\u001b[0m \u001b[1;33m=\u001b[0m \u001b[0modeint\u001b[0m\u001b[1;33m(\u001b[0m\u001b[0msystems\u001b[0m\u001b[1;33m,\u001b[0m \u001b[0mX0_on\u001b[0m\u001b[1;33m,\u001b[0m \u001b[0mt\u001b[0m\u001b[1;33m,\u001b[0m \u001b[0margs\u001b[0m\u001b[1;33m=\u001b[0m\u001b[1;33m(\u001b[0m\u001b[0mS\u001b[0m\u001b[1;33m,\u001b[0m \u001b[0mstates\u001b[0m\u001b[1;33m)\u001b[0m\u001b[1;33m)\u001b[0m\u001b[1;33m\u001b[0m\u001b[1;33m\u001b[0m\u001b[0m\n\u001b[1;32m---> 23\u001b[1;33m         \u001b[0mqsol\u001b[0m \u001b[1;33m=\u001b[0m \u001b[0modeint\u001b[0m\u001b[1;33m(\u001b[0m\u001b[0msystems\u001b[0m\u001b[1;33m,\u001b[0m \u001b[0mX0_off\u001b[0m\u001b[1;33m,\u001b[0m \u001b[0mt\u001b[0m\u001b[1;33m,\u001b[0m \u001b[0margs\u001b[0m\u001b[1;33m=\u001b[0m\u001b[1;33m(\u001b[0m\u001b[0mS\u001b[0m\u001b[1;33m,\u001b[0m \u001b[0mstates\u001b[0m\u001b[1;33m)\u001b[0m\u001b[1;33m)\u001b[0m\u001b[1;33m\u001b[0m\u001b[1;33m\u001b[0m\u001b[0m\n\u001b[0m\u001b[0;32m     24\u001b[0m \u001b[1;33m\u001b[0m\u001b[0m\n\u001b[0;32m     25\u001b[0m         \u001b[1;31m# Per-parameter-set steady state recording\u001b[0m\u001b[1;33m\u001b[0m\u001b[1;33m\u001b[0m\u001b[1;33m\u001b[0m\u001b[0m\n",
      "\u001b[1;32m~\\anaconda3\\lib\\site-packages\\scipy\\integrate\\odepack.py\u001b[0m in \u001b[0;36modeint\u001b[1;34m(func, y0, t, args, Dfun, col_deriv, full_output, ml, mu, rtol, atol, tcrit, h0, hmax, hmin, ixpr, mxstep, mxhnil, mxordn, mxords, printmessg, tfirst)\u001b[0m\n\u001b[0;32m    239\u001b[0m     \u001b[0mt\u001b[0m \u001b[1;33m=\u001b[0m \u001b[0mcopy\u001b[0m\u001b[1;33m(\u001b[0m\u001b[0mt\u001b[0m\u001b[1;33m)\u001b[0m\u001b[1;33m\u001b[0m\u001b[1;33m\u001b[0m\u001b[0m\n\u001b[0;32m    240\u001b[0m     \u001b[0my0\u001b[0m \u001b[1;33m=\u001b[0m \u001b[0mcopy\u001b[0m\u001b[1;33m(\u001b[0m\u001b[0my0\u001b[0m\u001b[1;33m)\u001b[0m\u001b[1;33m\u001b[0m\u001b[1;33m\u001b[0m\u001b[0m\n\u001b[1;32m--> 241\u001b[1;33m     output = _odepack.odeint(func, y0, t, args, Dfun, col_deriv, ml, mu,\n\u001b[0m\u001b[0;32m    242\u001b[0m                              \u001b[0mfull_output\u001b[0m\u001b[1;33m,\u001b[0m \u001b[0mrtol\u001b[0m\u001b[1;33m,\u001b[0m \u001b[0matol\u001b[0m\u001b[1;33m,\u001b[0m \u001b[0mtcrit\u001b[0m\u001b[1;33m,\u001b[0m \u001b[0mh0\u001b[0m\u001b[1;33m,\u001b[0m \u001b[0mhmax\u001b[0m\u001b[1;33m,\u001b[0m \u001b[0mhmin\u001b[0m\u001b[1;33m,\u001b[0m\u001b[1;33m\u001b[0m\u001b[1;33m\u001b[0m\u001b[0m\n\u001b[0;32m    243\u001b[0m                              \u001b[0mixpr\u001b[0m\u001b[1;33m,\u001b[0m \u001b[0mmxstep\u001b[0m\u001b[1;33m,\u001b[0m \u001b[0mmxhnil\u001b[0m\u001b[1;33m,\u001b[0m \u001b[0mmxordn\u001b[0m\u001b[1;33m,\u001b[0m \u001b[0mmxords\u001b[0m\u001b[1;33m,\u001b[0m\u001b[1;33m\u001b[0m\u001b[1;33m\u001b[0m\u001b[0m\n",
      "\u001b[1;32m<ipython-input-42-6121925ffcab>\u001b[0m in \u001b[0;36msystems\u001b[1;34m(X, t, S, states)\u001b[0m\n\u001b[0;32m      4\u001b[0m \u001b[1;33m\u001b[0m\u001b[0m\n\u001b[0;32m      5\u001b[0m \u001b[1;32mdef\u001b[0m \u001b[0msystems\u001b[0m\u001b[1;33m(\u001b[0m\u001b[0mX\u001b[0m\u001b[1;33m,\u001b[0m \u001b[0mt\u001b[0m\u001b[1;33m,\u001b[0m \u001b[0mS\u001b[0m\u001b[1;33m,\u001b[0m \u001b[0mstates\u001b[0m\u001b[1;33m)\u001b[0m\u001b[1;33m:\u001b[0m\u001b[1;33m\u001b[0m\u001b[1;33m\u001b[0m\u001b[0m\n\u001b[1;32m----> 6\u001b[1;33m     \u001b[0mEE\u001b[0m \u001b[1;33m=\u001b[0m \u001b[0mX\u001b[0m\u001b[1;33m[\u001b[0m\u001b[1;36m0\u001b[0m\u001b[1;33m]\u001b[0m\u001b[1;33m\u001b[0m\u001b[1;33m\u001b[0m\u001b[0m\n\u001b[0m\u001b[0;32m      7\u001b[0m     \u001b[0mMD\u001b[0m \u001b[1;33m=\u001b[0m \u001b[0mX\u001b[0m\u001b[1;33m[\u001b[0m\u001b[1;36m1\u001b[0m\u001b[1;33m]\u001b[0m\u001b[1;33m\u001b[0m\u001b[1;33m\u001b[0m\u001b[0m\n\u001b[0;32m      8\u001b[0m     \u001b[0mRP\u001b[0m \u001b[1;33m=\u001b[0m \u001b[0mX\u001b[0m\u001b[1;33m[\u001b[0m\u001b[1;36m2\u001b[0m\u001b[1;33m]\u001b[0m\u001b[1;33m\u001b[0m\u001b[1;33m\u001b[0m\u001b[0m\n",
      "\u001b[1;31mKeyboardInterrupt\u001b[0m: "
     ]
    }
   ],
   "source": [
    "# Initialize dictionary to store final steady-state concentrations\n",
    "steady_states = {\n",
    "    \"EE\": [],\n",
    "    \"MD\": [],\n",
    "    \"RP\": []\n",
    "}\n",
    "\n",
    "# Counters for switch and bistability\n",
    "switch_count = 0\n",
    "bistable_count = 0\n",
    "\n",
    "# Loop through parameters and record steady-state concentrations\n",
    "for i in range(params.shape[0]):\n",
    "    # Update parameters from row of df\n",
    "    globals().update(params.iloc[i].to_dict())\n",
    "    \n",
    "    EE_SS_on = []\n",
    "    EE_SS_off = []\n",
    "\n",
    "    for S in serum_con:\n",
    "        # Calculate ODEs\n",
    "        psol = odeint(systems, X0_on, t, args=(S, states))\n",
    "        qsol = odeint(systems, X0_off, t, args=(S, states))\n",
    "        \n",
    "        # Per-parameter-set steady state recording\n",
    "        EE_SS_on.append(psol[-1, 0])\n",
    "        EE_SS_off.append(qsol[-1, 0])\n",
    "\n",
    "    bistable_count += cond_analysis(EE_SS_on, EE_SS_off)\n",
    "\n",
    "    # Bistability status printer\n",
    "    print(f\"{bistable_count}/{i + 1} bistable.\", end=\"\\r\")\n",
    "    \n",
    "    # Plot EE steady state with log10 serum concentration\n",
    "    plot_obj = [(np.log10(serum_con), EE_SS_on), (np.log10(serum_con), EE_SS_off)]\n",
    "    plotter(plot_obj, 2)"
   ]
  },
  {
   "cell_type": "code",
   "execution_count": null,
   "id": "6c043fe5-5f77-4d14-bdda-d6897cadf678",
   "metadata": {},
   "outputs": [],
   "source": [
    "x = [.01, .02, .5, .25, .1, -.01, -.5]\n",
    "x = 1.2\n",
    "x_dot = -.5\n",
    "\n",
    "x_dot[(x <= 0) * (x_dot <= 0)]=0.0"
   ]
  },
  {
   "cell_type": "code",
   "execution_count": null,
   "id": "111e0c01-ed94-4466-8ed8-0bd005ba21d4",
   "metadata": {},
   "outputs": [],
   "source": []
  }
 ],
 "metadata": {
  "kernelspec": {
   "display_name": "Python 3",
   "language": "python",
   "name": "python3"
  },
  "language_info": {
   "codemirror_mode": {
    "name": "ipython",
    "version": 3
   },
   "file_extension": ".py",
   "mimetype": "text/x-python",
   "name": "python",
   "nbconvert_exporter": "python",
   "pygments_lexer": "ipython3",
   "version": "3.8.10"
  }
 },
 "nbformat": 4,
 "nbformat_minor": 5
}
