{
 "cells": [
  {
   "cell_type": "code",
   "execution_count": 3,
   "id": "af3e0179-890e-4186-8081-4d05c642d298",
   "metadata": {},
   "outputs": [],
   "source": [
    "from scipy.integrate import odeint\n",
    "from joblib import Parallel, delayed\n",
    "import matplotlib.pyplot as plt\n",
    "import numpy as np\n",
    "import pandas as pd\n",
    "import random\n",
    "import time"
   ]
  },
  {
   "cell_type": "code",
   "execution_count": 4,
   "id": "3eeb6fd0-c345-4f59-9570-3bde9670f470",
   "metadata": {
    "jupyter": {
     "source_hidden": true
    },
    "tags": []
   },
   "outputs": [],
   "source": [
    "# Plot the relevent outputs used downstream.\n",
    "# input_obj: for type 1, input odeint output. for type 2, just look at the code to figure out input... \n",
    "# plot_type: 1 for concentration plots, 2 for EE steady state plots\n",
    "\n",
    "def plotter(input_obj, plot_type):\n",
    "    if plot_type == 1:\n",
    "        EE = input_obj[:, 0]\n",
    "        MD = input_obj[:, 1]\n",
    "        RP = input_obj[:, 2]\n",
    "\n",
    "        plt.plot()\n",
    "        plt.title('Concentrations Plot')\n",
    "        plt.xlabel('Time (hrs)')\n",
    "        plt.ylabel('Concentration (nM/mL)')\n",
    "        plt.plot(t, EE, label=\"EE\")\n",
    "        plt.plot(t, MD, label=\"MD\")\n",
    "        plt.plot(t, RP, label=\"RP\")\n",
    "        plt.legend()\n",
    "        plt.show()\n",
    "\n",
    "    if plot_type == 2:\n",
    "        plt.plot(input_obj[0][0], input_obj[0][1], label=\"EE On\")\n",
    "        plt.plot(input_obj[1][0], input_obj[1][1], label=\"EE Off\")\n",
    "        plt.legend(loc=\"best\")\n",
    "        plt.ylabel(\"EE_SS\")\n",
    "        plt.xlabel(\"log10 [S]\")\n",
    "        plt.show()"
   ]
  },
  {
   "cell_type": "code",
   "execution_count": 5,
   "id": "3df39322-c692-4ea8-82c7-b0a4b1e8bc24",
   "metadata": {
    "jupyter": {
     "source_hidden": true
    },
    "tags": []
   },
   "outputs": [],
   "source": [
    "# Dealing with more complex, time-dependent serum concentration behavior\n",
    "\n",
    "def serum(time):\n",
    "    R = 7\n",
    "    hi = 20\n",
    "    low = .3\n",
    "    if time < R:\n",
    "        return hi\n",
    "    else: return low"
   ]
  },
  {
   "cell_type": "code",
   "execution_count": 6,
   "id": "08a38c7a-f177-4680-9eed-0713a450e568",
   "metadata": {
    "jupyter": {
     "source_hidden": true
    },
    "tags": []
   },
   "outputs": [],
   "source": [
    "# Positive Michaelis-Menten equation\n",
    "# state: 0 or 1 depending on if a model component will be on or off\n",
    "# a_or_m: return additive or multiplicative identity when model component is off\n",
    "\n",
    "def mm_pos(A_n, K_n, n_n, a_or_m, state):\n",
    "    if state == 0:\n",
    "        if a_or_m == \"a\":\n",
    "            return 0\n",
    "        if a_or_m == \"m\":\n",
    "            return 1\n",
    "        \n",
    "    else:\n",
    "        if A_n < 0:\n",
    "            A_n = 0\n",
    "        # Unsure about applying maximum\n",
    "        if A_n >= 11:\n",
    "            A_n = 11\n",
    "            \n",
    "        val = A_n**n_n/(K_n**n_n + A_n**n_n)\n",
    "        return val"
   ]
  },
  {
   "cell_type": "code",
   "execution_count": 7,
   "id": "c85c7698-b318-4b16-adb1-85cd9c6d7891",
   "metadata": {
    "jupyter": {
     "source_hidden": true
    },
    "tags": []
   },
   "outputs": [],
   "source": [
    "# Negative Michaelis-Menten equation\n",
    "# state: 0 or 1 depending on if a model component will be on or off\n",
    "# a_or_m: return additive or multiplicative identity when model component is off\n",
    "\n",
    "def mm_neg(A_n, K_n, n_n, a_or_m, state):\n",
    "    if state == 0:\n",
    "        if a_or_m == \"a\":\n",
    "            return 0\n",
    "        if a_or_m == \"m\":\n",
    "            return 1\n",
    "        \n",
    "    else:\n",
    "        if A_n < 0:\n",
    "            A_n = 0\n",
    "        # Unsure about applying maximum\n",
    "        if A_n >= 11:\n",
    "            A_n = 11\n",
    "\n",
    "        val = K_n**n_n/(K_n**n_n + A_n**n_n)\n",
    "        return val"
   ]
  },
  {
   "cell_type": "code",
   "execution_count": 8,
   "id": "96434d58-cca0-42aa-b7d0-7370a143513a",
   "metadata": {
    "jupyter": {
     "source_hidden": true
    },
    "tags": []
   },
   "outputs": [],
   "source": [
    "# For the special 9th model component link\n",
    "# state7: link 7 on or off\n",
    "# state9: link 9 on or off\n",
    "\n",
    "def link_9(state7, state9, MD, EE, n_7, n_9, K_7, K_9, beta_EE=None):\n",
    "    if state9 == 0:\n",
    "        link7 = mm_pos(MD, K_7, n_7, \"m\", state7)\n",
    "        return link7\n",
    "    \n",
    "    if state9 == 1:\n",
    "        link9a = mm_pos(MD, K_7, n_7, \"m\", state7) * mm_pos(EE, K_9, n_9, \"m\", 1)\n",
    "        return link9a\n",
    "    \n",
    "    if state9 == 2:\n",
    "        link9b = mm_pos(MD, K_7, n_7, \"\", state7) + beta_EE*mm_pos(EE, K_9, n_9, \"a\", 1)\n",
    "        return link9b"
   ]
  },
  {
   "cell_type": "code",
   "execution_count": 13,
   "id": "69ab0530-24ec-465b-91b6-54a77f3dee7a",
   "metadata": {
    "tags": []
   },
   "outputs": [],
   "source": [
    "def df_chunker(full_df, chunks):\n",
    "    dfs = []\n",
    "    interval_size = full_df.shape[0]//chunks\n",
    "    dfs.append(full_df.iloc[0:interval_size, :])\n",
    "\n",
    "    for i in range(chunks - 1):\n",
    "        dfs.append(full_df.iloc[(interval_size * (i + 1)):(interval_size * (i + 2)), :])\n",
    "\n",
    "    if params.shape[0] % chunks != 0:\n",
    "        dfs.append(full_df.iloc[interval_size * chunks: , :])\n",
    "\n",
    "    return dfs"
   ]
  },
  {
   "cell_type": "code",
   "execution_count": 10,
   "id": "f09ac8b4-6c92-41b0-a95b-e7cb0e44833e",
   "metadata": {
    "tags": []
   },
   "outputs": [],
   "source": [
    "# Performs analysis on switch/bistability behavior.\n",
    "# Need to implement resettability condition in the future.\n",
    "# EE_SS_on, EE_SS_off: proliferative and quiescent odeint outputs, respectively.\n",
    "\n",
    "def cond_analysis(EE_SS_on, EE_SS_off):\n",
    "    # Calculate difference between max and min of SS for EE-off initial condition\n",
    "    EE_min_max = max(EE_SS_off) - min(EE_SS_off)\n",
    "\n",
    "    # Switch conditions\n",
    "    switch = False\n",
    "    if EE_min_max > lmda:\n",
    "        switch = True\n",
    "\n",
    "    # Keep record of delta EE_SS\n",
    "    delta_EE_SS = []\n",
    "    for SS_off, SS_on in zip(EE_SS_off, EE_SS_on):\n",
    "        delta_EE_SS.append(SS_on - SS_off)\n",
    "        \n",
    "    # Bistability conditions\n",
    "    bistable_bool = False\n",
    "    if sum([i > EE_min_max * .1 for i in delta_EE_SS]) >= 2 and switch:\n",
    "        bistable_bool = True\n",
    "    elif sum([i > EE_min_max * .2 for i in delta_EE_SS]) >= 1 and switch:\n",
    "        bistable_bool = True\n",
    "    \n",
    "    # Resettability conditions\n",
    "    reset_bool = False\n",
    "    if delta_EE_SS[0] <= .05:\n",
    "        reset_bool = True\n",
    "    \n",
    "    # Assess if both resettable and bistable\n",
    "    rebi_bool = 0\n",
    "    if reset_bool and bistable_bool: \n",
    "        rebi_bool = 1\n",
    "    \n",
    "    return rebi_bool"
   ]
  },
  {
   "cell_type": "code",
   "execution_count": 11,
   "id": "2294e00d-985e-432d-92a8-93ae53e43387",
   "metadata": {},
   "outputs": [],
   "source": [
    "# Input function for odeint\n",
    "# Includes logic for upper bound being 11\n",
    "# Logic for lower bound being 0 should/needs to be implemented\n",
    "\n",
    "def systems(X, t, S, states):\n",
    "    EE = X[0]\n",
    "    MD = X[1]\n",
    "    RP = X[2]\n",
    "\n",
    "\n",
    "    dEEdt = (1/tau_EE) * (link_9(states[5], states[7], MD, EE, n_7, n_9, K_7, K_9, beta_EE) * mm_neg(RP, K_6, n_6, \"m\", states[4]) * mm_neg(MD, K_8, n_8, \"m\", states[6]) * mm_neg(EE, K_10, n_10, \"m\", states[8]) - EE)\n",
    "    dMDdt = (1/tau_MD) * (mm_pos(S, K_1, n_1, \"m\", 1) + beta_MD*mm_pos(EE, K_2, n_2, \"a\", states[0]) - MD)\n",
    "    dRPdt = (1/tau_RP) * ((1 + beta_RP*mm_pos(EE, K_4, n_4, \"a\", states[2])) * mm_neg(MD, K_3, n_3, \"m\", states[1]) * mm_neg(EE, K_5, n_5, \"m\", states[3]) - RP)\n",
    "\n",
    "    return [dEEdt, dMDdt, dRPdt]"
   ]
  },
  {
   "cell_type": "markdown",
   "id": "ae87c708-f013-4e52-ac11-a41786ad4b4c",
   "metadata": {},
   "source": [
    "## Loading parameters, states, initial conditions, time steps, and serum concentrations\n",
    "__________________________________"
   ]
  },
  {
   "cell_type": "code",
   "execution_count": 39,
   "id": "350323b1-2702-4450-98de-967536e4ee82",
   "metadata": {},
   "outputs": [],
   "source": [
    "# Load parameters\n",
    "params = pd.read_csv(\"parameters.csv\")\n",
    "\n",
    "# Initial conditions\n",
    "X0_on = [11, 11, 0.01] # EE-on initial condition\n",
    "X0_off = [0.01, 0.01, 11] # EE-off initial condition\n",
    "\n",
    "# Time steps\n",
    "t = np.linspace(.2, 200, 100)\n",
    "\n",
    "# .01 to 20 serum concentration\n",
    "serum_con = np.logspace(-2, 1.3, 25)\n",
    "\n",
    "# On/off components of model\n",
    "# link 9: 0 for off, 1 for 9a, 2 for 9b\n",
    "# Most robust: states = [1, 1, 0, 1, 1, 1, 0, 2, 0]\n",
    "# Links:  2  3  4  5  6  7  8  9  10\n",
    "states = [0, 1, 0, 1, 1, 1, 0, 0, 0]\n",
    "\n",
    "# For switch and bistability\n",
    "lmda = .1"
   ]
  },
  {
   "cell_type": "markdown",
   "id": "5da4ef74-bdbe-48e7-9ebe-1dd7faf2a43e",
   "metadata": {},
   "source": [
    "## Generating Time x Concentration graphs for 1 $[S]$ value\n",
    "__________________________________"
   ]
  },
  {
   "cell_type": "code",
   "execution_count": null,
   "id": "11c623f4-778b-4540-833a-06a53fd1b427",
   "metadata": {},
   "outputs": [],
   "source": [
    "# Initialize dictionary to store final steady-state concentrations\n",
    "steady_states = {\n",
    "    \"EE\": [],\n",
    "    \"MD\": [],\n",
    "    \"RP\": []\n",
    "}\n",
    "\n",
    "S = 2\n",
    "\n",
    "# Loop through parameters and record steady-state concentrations\n",
    "for i in range(params.shape[0]-19900):\n",
    "    # Update parameters from row of df\n",
    "    globals().update(params.iloc[i].to_dict())\n",
    "\n",
    "    # Calculate ODEs\n",
    "    sol = odeint(systems, X0_on, t, args=(S, states))\n",
    "    \n",
    "    # Record steady-state concentrations\n",
    "    steady_states[\"EE\"].append(sol[-1, 0])\n",
    "    steady_states[\"MD\"].append(sol[-1, 1])\n",
    "    steady_states[\"RP\"].append(sol[-1, 2])\n",
    "    \n",
    "    plotter(sol,1)\n",
    "    print(steady_states[\"EE\"][-1])"
   ]
  },
  {
   "cell_type": "markdown",
   "id": "99a9f921-eea2-490b-b336-6d1c04263808",
   "metadata": {},
   "source": [
    "## Generating $[S]$ x $EE_{SS}$ graphs and analyzing for bistability\n",
    "__________________________________"
   ]
  },
  {
   "cell_type": "code",
   "execution_count": 40,
   "id": "f92b74a7-d6d6-47e7-b25e-075c3f917751",
   "metadata": {},
   "outputs": [],
   "source": [
    "def run_sim(param_subset):\n",
    "    rebi_count = 0\n",
    "    \n",
    "    # Loop through parameters and record steady-state concentrations\n",
    "    for i in range(param_subset.shape[0]):\n",
    "        # Update parameters from row of df\n",
    "        globals().update(param_subset.iloc[i].to_dict())\n",
    "\n",
    "        EE_SS_on = []\n",
    "        EE_SS_off = []\n",
    "\n",
    "        for S in serum_con:\n",
    "            # Calculate ODEs\n",
    "            psol = odeint(systems, X0_on, t, args=(S, states))\n",
    "            qsol = odeint(systems, X0_off, t, args=(S, states))\n",
    "\n",
    "            # Per-parameter-set steady state recording\n",
    "            EE_SS_on.append(psol[-1, 0])\n",
    "            EE_SS_off.append(qsol[-1, 0])\n",
    "\n",
    "        rebi_count += cond_analysis(EE_SS_on, EE_SS_off)\n",
    "    \n",
    "    return rebi_count"
   ]
  },
  {
   "cell_type": "code",
   "execution_count": 41,
   "id": "fc0bee3e-2978-48be-b4a7-82635b2f1666",
   "metadata": {},
   "outputs": [
    {
     "name": "stdout",
     "output_type": "stream",
     "text": [
      "4016/20040 bistable and resettable.\n",
      "Took 3169.969s.\n"
     ]
    }
   ],
   "source": [
    "cpus = 8\n",
    "\n",
    "dfs = df_chunker(params, cpus-1)\n",
    "\n",
    "start = time.time()\n",
    "results = Parallel(n_jobs=cpus)(delayed(run_sim)(sub_df) for sub_df in dfs)\n",
    "finish = time.time()\n",
    "\n",
    "total_rebi = 0\n",
    "for result in results:\n",
    "    total_rebi += result\n",
    "\n",
    "print(f\"{total_rebi}/{params.shape[0]} bistable and resettable.\")\n",
    "print(f\"Took {round(finish - start, 3)}s.\")"
   ]
  },
  {
   "cell_type": "code",
   "execution_count": 43,
   "id": "3f4df2b4-a98b-412b-955a-959fdea67d34",
   "metadata": {},
   "outputs": [
    {
     "data": {
      "text/plain": [
       "52.832816666666666"
      ]
     },
     "execution_count": 43,
     "metadata": {},
     "output_type": "execute_result"
    }
   ],
   "source": [
    "3169.969/60"
   ]
  },
  {
   "cell_type": "code",
   "execution_count": 46,
   "id": "86eadf8f-b703-4541-b62b-288bb1b45f0b",
   "metadata": {},
   "outputs": [
    {
     "data": {
      "text/plain": [
       "107.0"
      ]
     },
     "execution_count": 46,
     "metadata": {},
     "output_type": "execute_result"
    }
   ],
   "source": [
    ".321*20000/60"
   ]
  },
  {
   "cell_type": "code",
   "execution_count": null,
   "id": "783558b2-2802-4768-a8ae-60c4bf337388",
   "metadata": {},
   "outputs": [],
   "source": []
  }
 ],
 "metadata": {
  "kernelspec": {
   "display_name": "Python 3",
   "language": "python",
   "name": "python3"
  },
  "language_info": {
   "codemirror_mode": {
    "name": "ipython",
    "version": 3
   },
   "file_extension": ".py",
   "mimetype": "text/x-python",
   "name": "python",
   "nbconvert_exporter": "python",
   "pygments_lexer": "ipython3",
   "version": "3.8.10"
  }
 },
 "nbformat": 4,
 "nbformat_minor": 5
}
