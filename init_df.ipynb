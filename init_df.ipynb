{
 "cells": [
  {
   "cell_type": "code",
   "execution_count": 8,
   "id": "8244636a-2261-4c00-8db1-45974c9dd4b1",
   "metadata": {},
   "outputs": [],
   "source": [
    "import pandas as pd\n",
    "import os"
   ]
  },
  {
   "cell_type": "code",
   "execution_count": 9,
   "id": "9f5bd7fe-9a5a-4de6-ab7e-a20ea99e9822",
   "metadata": {},
   "outputs": [
    {
     "name": "stdin",
     "output_type": "stream",
     "text": [
      "File exists. Overwrite? [y/n] y\n"
     ]
    },
    {
     "name": "stdout",
     "output_type": "stream",
     "text": [
      "New empty file created.\n"
     ]
    }
   ],
   "source": [
    "colnames = [\"L2\", \"L3\", \"L4\", \"L5\", \"L6\", \"L7\", \"L8\", \"L9\", \"L10\", \"bistable_count\", \"rebi_count\"]\n",
    "init_df = pd.DataFrame(columns=colnames)\n",
    "\n",
    "if os.path.exists(\"model_rebi_counts.csv\"):\n",
    "    option = input(\"File exists. Overwrite? [y/n]\").lower()\n",
    "    if option == \"y\":\n",
    "        init_df.to_csv(\"model_rebi_counts.csv\", index=False)\n",
    "        print(\"New empty file created.\")\n",
    "    else:\n",
    "        print(\"Previous file retained.\")\n",
    "\n",
    "else:\n",
    "    init_df.to_csv(\"model_rebi_counts.csv\", index=False)"
   ]
  },
  {
   "cell_type": "code",
   "execution_count": null,
   "id": "52827b04-3244-4173-b2e8-8985451d4325",
   "metadata": {
    "tags": []
   },
   "outputs": [],
   "source": []
  }
 ],
 "metadata": {
  "kernelspec": {
   "display_name": "Python 3",
   "language": "python",
   "name": "python3"
  },
  "language_info": {
   "codemirror_mode": {
    "name": "ipython",
    "version": 3
   },
   "file_extension": ".py",
   "mimetype": "text/x-python",
   "name": "python",
   "nbconvert_exporter": "python",
   "pygments_lexer": "ipython3",
   "version": "3.8.10"
  }
 },
 "nbformat": 4,
 "nbformat_minor": 5
}
