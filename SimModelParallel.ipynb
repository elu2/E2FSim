{
 "cells": [
  {
   "cell_type": "code",
   "execution_count": 3,
   "id": "af3e0179-890e-4186-8081-4d05c642d298",
   "metadata": {},
   "outputs": [],
   "source": [
    "from scipy.integrate import odeint\n",
    "from joblib import Parallel, delayed\n",
    "import matplotlib.pyplot as plt\n",
    "import numpy as np\n",
    "import pandas as pd\n",
    "import random\n",
    "import time\n",
    "import itertools as it"
   ]
  },
  {
   "cell_type": "code",
   "execution_count": 4,
   "id": "3eeb6fd0-c345-4f59-9570-3bde9670f470",
   "metadata": {
    "jupyter": {
     "source_hidden": true
    },
    "tags": []
   },
   "outputs": [],
   "source": [
    "# Plot the relevent outputs used downstream.\n",
    "# input_obj: for type 1, input odeint output. for type 2, just look at the code to figure out input... \n",
    "# plot_type: 1 for concentration plots, 2 for EE steady state plots\n",
    "\n",
    "def plotter(input_obj, plot_type):\n",
    "    if plot_type == 1:\n",
    "        EE = input_obj[:, 0]\n",
    "        MD = input_obj[:, 1]\n",
    "        RP = input_obj[:, 2]\n",
    "\n",
    "        plt.plot()\n",
    "        plt.title('Concentrations Plot')\n",
    "        plt.xlabel('Time (hrs)')\n",
    "        plt.ylabel('Concentration (nM/mL)')\n",
    "        plt.plot(t, EE, label=\"EE\")\n",
    "        plt.plot(t, MD, label=\"MD\")\n",
    "        plt.plot(t, RP, label=\"RP\")\n",
    "        plt.legend()\n",
    "        plt.show()\n",
    "\n",
    "    if plot_type == 2:\n",
    "        plt.plot(input_obj[0][0], input_obj[0][1], label=\"EE On\")\n",
    "        plt.plot(input_obj[1][0], input_obj[1][1], label=\"EE Off\")\n",
    "        plt.legend(loc=\"best\")\n",
    "        plt.ylabel(\"EE_SS\")\n",
    "        plt.xlabel(\"log10 [S]\")\n",
    "        plt.show()"
   ]
  },
  {
   "cell_type": "code",
   "execution_count": 5,
   "id": "08a38c7a-f177-4680-9eed-0713a450e568",
   "metadata": {
    "jupyter": {
     "source_hidden": true
    },
    "tags": []
   },
   "outputs": [],
   "source": [
    "# Positive Michaelis-Menten equation\n",
    "# state: 0 or 1 depending on if a model component will be on or off\n",
    "# a_or_m: return additive or multiplicative identity when model component is off\n",
    "\n",
    "def mm_pos(A_n, K_n, n_n, a_or_m, state):\n",
    "    if state == 0:\n",
    "        if a_or_m == \"a\":\n",
    "            return 0\n",
    "        if a_or_m == \"m\":\n",
    "            return 1\n",
    "        \n",
    "    else:\n",
    "        if A_n < 0:\n",
    "            A_n = 0\n",
    "        # Unsure about applying maximum\n",
    "        if A_n >= 11:\n",
    "            A_n = 11\n",
    "            \n",
    "        val = A_n**n_n/(K_n**n_n + A_n**n_n)\n",
    "        return val"
   ]
  },
  {
   "cell_type": "code",
   "execution_count": 6,
   "id": "c85c7698-b318-4b16-adb1-85cd9c6d7891",
   "metadata": {
    "jupyter": {
     "source_hidden": true
    },
    "tags": []
   },
   "outputs": [],
   "source": [
    "# Negative Michaelis-Menten equation\n",
    "# state: 0 or 1 depending on if a model component will be on or off\n",
    "# a_or_m: return additive or multiplicative identity when model component is off\n",
    "\n",
    "def mm_neg(A_n, K_n, n_n, a_or_m, state):\n",
    "    if state == 0:\n",
    "        if a_or_m == \"a\":\n",
    "            return 0\n",
    "        if a_or_m == \"m\":\n",
    "            return 1\n",
    "        \n",
    "    else:\n",
    "        if A_n < 0:\n",
    "            A_n = 0\n",
    "        # Unsure about applying maximum\n",
    "        if A_n >= 11:\n",
    "            A_n = 11\n",
    "\n",
    "        val = K_n**n_n/(K_n**n_n + A_n**n_n)\n",
    "        return val"
   ]
  },
  {
   "cell_type": "code",
   "execution_count": 7,
   "id": "96434d58-cca0-42aa-b7d0-7370a143513a",
   "metadata": {
    "jupyter": {
     "source_hidden": true
    },
    "tags": []
   },
   "outputs": [],
   "source": [
    "# For the special 9th model component link\n",
    "# state7: link 7 on or off\n",
    "# state9: link 9 on or off\n",
    "\n",
    "def link_9(state7, state9, MD, EE, n_7, n_9, K_7, K_9, beta_EE=None):\n",
    "    if state9 == 0:\n",
    "        link7 = mm_pos(MD, K_7, n_7, \"m\", state7)\n",
    "        return link7\n",
    "    \n",
    "    if state9 == 1:\n",
    "        link9a = mm_pos(MD, K_7, n_7, \"m\", state7) * mm_pos(EE, K_9, n_9, \"m\", 1)\n",
    "        return link9a\n",
    "    \n",
    "    if state9 == 2:\n",
    "        link9b = mm_pos(MD, K_7, n_7, \"m\", state7) + beta_EE*mm_pos(EE, K_9, n_9, \"a\", 1)\n",
    "        return link9b"
   ]
  },
  {
   "cell_type": "code",
   "execution_count": 9,
   "id": "2294e00d-985e-432d-92a8-93ae53e43387",
   "metadata": {
    "jupyter": {
     "source_hidden": true
    },
    "tags": []
   },
   "outputs": [],
   "source": [
    "# Input function for odeint\n",
    "# Includes logic for upper bound being 11\n",
    "# Logic for lower bound being 0 should/needs to be implemented\n",
    "\n",
    "def systems(X, t, S, states):\n",
    "    EE = X[0]\n",
    "    MD = X[1]\n",
    "    RP = X[2]\n",
    "\n",
    "\n",
    "    dEEdt = (1/tau_EE) * (link_9(states[5], states[7], MD, EE, n_7, n_9, K_7, K_9, beta_EE) * mm_neg(RP, K_6, n_6, \"m\", states[4]) * mm_neg(MD, K_8, n_8, \"m\", states[6]) * mm_neg(EE, K_10, n_10, \"m\", states[8]) - EE)\n",
    "    dMDdt = (1/tau_MD) * (mm_pos(S, K_1, n_1, \"m\", 1) + beta_MD*mm_pos(EE, K_2, n_2, \"a\", states[0]) - MD)\n",
    "    dRPdt = (1/tau_RP) * ((1 + beta_RP*mm_pos(EE, K_4, n_4, \"a\", states[2])) * mm_neg(MD, K_3, n_3, \"m\", states[1]) * mm_neg(EE, K_5, n_5, \"m\", states[3]) - RP)\n",
    "\n",
    "    return [dEEdt, dMDdt, dRPdt]"
   ]
  },
  {
   "cell_type": "code",
   "execution_count": 8,
   "id": "f09ac8b4-6c92-41b0-a95b-e7cb0e44833e",
   "metadata": {
    "tags": []
   },
   "outputs": [],
   "source": [
    "# Performs analysis on switch/bistability behavior.\n",
    "# Need to implement resettability condition in the future.\n",
    "# EE_SS_on, EE_SS_off: proliferative and quiescent odeint outputs, respectively.\n",
    "\n",
    "def cond_analysis(EE_SS_on, EE_SS_off):\n",
    "    lmda = 0.1\n",
    "    # Calculate difference between max and min of SS for EE-off initial condition\n",
    "    EE_min_max = max(EE_SS_off) - min(EE_SS_off)\n",
    "\n",
    "    # Switch conditions\n",
    "    switch = False\n",
    "    if EE_min_max > lmda:\n",
    "        switch = True\n",
    "\n",
    "    # Keep record of delta EE_SS\n",
    "    delta_EE_SS = []\n",
    "    for SS_off, SS_on in zip(EE_SS_off, EE_SS_on):\n",
    "        delta_EE_SS.append(SS_on - SS_off)\n",
    "        \n",
    "    # Bistability conditions\n",
    "    bistable_bool = False\n",
    "    if sum([i > EE_min_max * .1 for i in delta_EE_SS]) >= 2 and switch:\n",
    "        bistable_bool = True\n",
    "    elif sum([i > EE_min_max * .2 for i in delta_EE_SS]) >= 1 and switch:\n",
    "        bistable_bool = True\n",
    "    \n",
    "    # Resettability conditions\n",
    "    reset_bool = False\n",
    "    if delta_EE_SS[0] <= .05:\n",
    "        reset_bool = True\n",
    "    \n",
    "    # Assess if both resettable and bistable\n",
    "    rebi_bool = 0\n",
    "    if reset_bool and bistable_bool: \n",
    "        rebi_bool = 1\n",
    "    \n",
    "    return rebi_bool, int(bistable_bool)"
   ]
  },
  {
   "cell_type": "code",
   "execution_count": 10,
   "id": "f2892030-8344-42f1-9a21-6fbd1c954055",
   "metadata": {
    "jupyter": {
     "source_hidden": true
    },
    "tags": []
   },
   "outputs": [],
   "source": [
    "# Create library of models with all linkers' combinations\n",
    "\n",
    "def model_library():\n",
    "    # Start with baseline model with all links off\n",
    "    models_a = [(0, 0, 0, 0, 0, 0, 0, 0, 0)]\n",
    "    \n",
    "    # find permutations of all possible linkers with 9a\n",
    "    for i in range(9):\n",
    "        none_on = [0, 0, 0, 0, 0, 0, 0, 0, 0]\n",
    "        for j in range(i+1):\n",
    "            none_on[j] = 1\n",
    "        models_a.extend(list(set(it.permutations(none_on))))\n",
    "\n",
    "    # Create all possible permutations with 9b linker and add to final list\n",
    "    models_b = models_a\n",
    "    models_b = [list(tup) for tup in models_b]\n",
    "\n",
    "    i = 0\n",
    "    for i in range(len(models_b)):\n",
    "        models_b[i][7] = 2\n",
    "\n",
    "    models_b = [tuple(lst) for lst in models_b]\n",
    "    models_a.extend(set(models_b))\n",
    "    \n",
    "    return models_a"
   ]
  },
  {
   "cell_type": "code",
   "execution_count": 11,
   "id": "f92b74a7-d6d6-47e7-b25e-075c3f917751",
   "metadata": {},
   "outputs": [],
   "source": [
    "def run_sim(states):\n",
    "    rebi_count = 0\n",
    "    bistable_count = 0\n",
    "    \n",
    "    # Loop through parameters and record steady-state concentrations\n",
    "    for i in range(params.shape[0]):\n",
    "        # Update parameters from row of df\n",
    "        globals().update(params.iloc[i].to_dict())\n",
    "\n",
    "        EE_SS_on = []\n",
    "        EE_SS_off = []\n",
    "\n",
    "        for S in serum_con:\n",
    "            # Calculate ODEs\n",
    "            psol = odeint(systems, X0_on, t, args=(S, states))\n",
    "            qsol = odeint(systems, X0_off, t, args=(S, states))\n",
    "\n",
    "            # Per-parameter-set steady state recording\n",
    "            EE_SS_on.append(psol[-1, 0])\n",
    "            EE_SS_off.append(qsol[-1, 0])\n",
    "        \n",
    "        rebi_bool, bistable_bool = cond_analysis(EE_SS_on, EE_SS_off)\n",
    "        rebi_count += rebi_bool\n",
    "        bistable_count += bistable_bool\n",
    "        \n",
    "        print(f\"States: {states}, {rebi_count}/{i} bistable and resettable.\", end=\"\\r\")\n",
    "    \n",
    "    return states, bistable_count, rebi_count"
   ]
  },
  {
   "cell_type": "code",
   "execution_count": 14,
   "id": "19df1c38-a658-4228-899f-68c845443822",
   "metadata": {},
   "outputs": [],
   "source": [
    "# Parallelized simulation running\n",
    "\n",
    "def run_parallel(params, cpus, run_range):\n",
    "    lower, upper = run_range\n",
    "    models = [(1, 1, 0, 1, 1, 1, 0, 2, 0), (0, 1, 0, 1, 1, 1, 0, 0, 0)]\n",
    "    results = Parallel(n_jobs=cpus)(delayed(run_sim)(model) for model in models[lower:upper])\n",
    "    \n",
    "    for result in results:\n",
    "        row = list(result[0])\n",
    "        row.append(result[1])\n",
    "        row.append(result[2])\n",
    "        pd.DataFrame([row]).to_csv(\"model_rebi_counts.csv\", mode=\"a\", header=False, index=False)"
   ]
  },
  {
   "cell_type": "markdown",
   "id": "99a9f921-eea2-490b-b336-6d1c04263808",
   "metadata": {},
   "source": [
    "## Run simulation with multiple models in parallel\n",
    "__________________________________"
   ]
  },
  {
   "cell_type": "code",
   "execution_count": 17,
   "id": "f55e9c99-cae0-487e-b5fb-bdfeb3beab0e",
   "metadata": {},
   "outputs": [
    {
     "name": "stdout",
     "output_type": "stream",
     "text": [
      "Total runtime: 154.233min\n"
     ]
    }
   ],
   "source": [
    "# --- Loading parameters, states, initial conditions, time steps, and serum concentrations ---\n",
    "# Load parameters\n",
    "params = pd.read_csv(\"parameters.csv\")\n",
    "\n",
    "# Initial conditions\n",
    "X0_on = [11, 11, 0.01] # EE-on initial condition\n",
    "X0_off = [0.01, 0.01, 11] # EE-off initial condition\n",
    "\n",
    "# Time steps\n",
    "t = np.linspace(.2, 200, 100)\n",
    "\n",
    "# .01 to 20 serum concentration\n",
    "serum_con = np.logspace(-2, 1.3, 25)\n",
    "\n",
    "start = time.time()\n",
    "rebi = run_parallel(params, -1, (0, 2))\n",
    "print(f\"Total runtime: {round((time.time() - start)/60, 3)}min\")"
   ]
  },
  {
   "cell_type": "code",
   "execution_count": null,
   "id": "435c14ab-fa61-4e83-98cc-070324ccd8fb",
   "metadata": {},
   "outputs": [],
   "source": []
  }
 ],
 "metadata": {
  "kernelspec": {
   "display_name": "Python 3",
   "language": "python",
   "name": "python3"
  },
  "language_info": {
   "codemirror_mode": {
    "name": "ipython",
    "version": 3
   },
   "file_extension": ".py",
   "mimetype": "text/x-python",
   "name": "python",
   "nbconvert_exporter": "python",
   "pygments_lexer": "ipython3",
   "version": "3.8.10"
  }
 },
 "nbformat": 4,
 "nbformat_minor": 5
}
