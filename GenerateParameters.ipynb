{
 "cells": [
  {
   "cell_type": "code",
   "execution_count": 43,
   "id": "fc520d15-aed8-4726-83cc-8ce883e1ad48",
   "metadata": {},
   "outputs": [],
   "source": [
    "import random\n",
    "import pandas as pd"
   ]
  },
  {
   "cell_type": "code",
   "execution_count": 44,
   "id": "69e4575f-3f82-4047-a272-931f36a3b4ea",
   "metadata": {},
   "outputs": [],
   "source": [
    "params = {\n",
    "    \"K_1\": [],\n",
    "    \"K_2\": [],\n",
    "    \"K_3\": [],\n",
    "    \"K_4\": [],\n",
    "    \"K_5\": [],\n",
    "    \"K_6\": [],\n",
    "    \"K_7\": [],\n",
    "    \"K_8\": [],\n",
    "    \"K_9\": [],\n",
    "    \"K_10\": [],\n",
    "    \"n_1\": [],\n",
    "    \"n_2\": [],\n",
    "    \"n_3\": [],\n",
    "    \"n_4\": [],\n",
    "    \"n_5\": [],\n",
    "    \"n_6\": [],\n",
    "    \"n_7\": [],\n",
    "    \"n_8\": [],\n",
    "    \"n_9\": [],\n",
    "    \"n_10\": [],\n",
    "    \"tau_MD\": [],\n",
    "    \"tau_RP\": [],\n",
    "    \"tau_EE\": [],\n",
    "    \"beta_MD\": [],\n",
    "    \"beta_RP\": [],\n",
    "    \"beta_EE\": []\n",
    "}"
   ]
  },
  {
   "cell_type": "code",
   "execution_count": 45,
   "id": "62e9e633-5945-42d7-9230-405aa297a5dd",
   "metadata": {},
   "outputs": [],
   "source": [
    "K_range = [0.01, 1]\n",
    "n_range = [1, 10]\n",
    "tau_range = [.2, 20]\n",
    "beta_range = [.1, 10]"
   ]
  },
  {
   "cell_type": "code",
   "execution_count": 46,
   "id": "e4f596b9-1098-43f8-971b-9b839071ea77",
   "metadata": {},
   "outputs": [],
   "source": [
    "K_class = [\"K_1\", \"K_2\", \"K_3\", \"K_4\", \"K_5\", \"K_6\", \"K_7\", \"K_8\", \"K_9\", \"K_10\"]\n",
    "n_class = [\"n_1\", \"n_2\", \"n_3\", \"n_4\", \"n_5\", \"n_6\", \"n_7\", \"n_8\", \"n_9\", \"n_10\"]\n",
    "tau_class = [\"tau_MD\", \"tau_RP\", \"tau_EE\"]\n",
    "beta_class = [\"beta_MD\", \"beta_RP\", \"beta_EE\"]"
   ]
  },
  {
   "cell_type": "code",
   "execution_count": 47,
   "id": "d0bdf143-ae4a-49a8-95c3-4c16cb1a4fc9",
   "metadata": {},
   "outputs": [],
   "source": [
    "n_sim = 20000\n",
    "for i in range(n_sim):\n",
    "    for param in K_class:\n",
    "        params[param].append(random.uniform(K_range[0], K_range[1]))\n",
    "\n",
    "    for param in n_class:\n",
    "        params[param].append(random.uniform(n_range[0], n_range[1]))\n",
    "\n",
    "    for param in tau_class:\n",
    "        params[param].append(random.uniform(tau_range[0], tau_range[1]))\n",
    "\n",
    "    for param in beta_class:\n",
    "        params[param].append(random.uniform(beta_range[0], beta_range[1]))"
   ]
  },
  {
   "cell_type": "code",
   "execution_count": 48,
   "id": "5f40c458-feb6-4dd1-9b0e-af23caa77c2f",
   "metadata": {},
   "outputs": [],
   "source": [
    "pd.DataFrame(params).to_csv(\"parameters.csv\", index=False)"
   ]
  },
  {
   "cell_type": "code",
   "execution_count": null,
   "id": "808c7405-6bbd-4e09-80c6-01c6c1821eb0",
   "metadata": {},
   "outputs": [],
   "source": []
  }
 ],
 "metadata": {
  "kernelspec": {
   "display_name": "Python 3",
   "language": "python",
   "name": "python3"
  },
  "language_info": {
   "codemirror_mode": {
    "name": "ipython",
    "version": 3
   },
   "file_extension": ".py",
   "mimetype": "text/x-python",
   "name": "python",
   "nbconvert_exporter": "python",
   "pygments_lexer": "ipython3",
   "version": "3.8.10"
  }
 },
 "nbformat": 4,
 "nbformat_minor": 5
}
